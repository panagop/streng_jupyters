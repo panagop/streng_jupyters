{
  "cells": [
    {
      "cell_type": "markdown",
      "source": [
        "# Kappos model for confined concrete"
      ],
      "metadata": {}
    },
    {
      "cell_type": "code",
      "source": [
        "import numpy as np\n",
        "import matplotlib.pyplot as plt\n",
        "\n",
        "from streng.ppp.materials.concrete import KapposConfined91"
      ],
      "outputs": [],
      "execution_count": 1,
      "metadata": {
        "collapsed": true,
        "execution": {
          "iopub.status.busy": "2020-10-21T21:24:53.326Z",
          "iopub.execute_input": "2020-10-21T21:24:53.331Z",
          "iopub.status.idle": "2020-10-21T21:24:53.811Z",
          "shell.execute_reply": "2020-10-21T21:24:53.865Z"
        }
      }
    },
    {
      "cell_type": "code",
      "source": [
        "kc = KapposConfined91(fc=28.,\n",
        "                      εco=0.002,\n",
        "                      ρw=0.00513,\n",
        "                      bc=0.30,\n",
        "                      s=0.10,\n",
        "                      fyw=440.,\n",
        "                      hoops_pattern=2)\n",
        "\n",
        "εcs = np.linspace(0, 0.02, 101).tolist()\n",
        "σcs = [kc.σc(εc) for εc in εcs]"
      ],
      "outputs": [],
      "execution_count": 2,
      "metadata": {
        "collapsed": true,
        "jupyter": {
          "source_hidden": false,
          "outputs_hidden": false
        },
        "nteract": {
          "transient": {
            "deleting": false
          }
        },
        "execution": {
          "iopub.status.busy": "2020-10-21T21:24:53.816Z",
          "iopub.execute_input": "2020-10-21T21:24:53.820Z",
          "iopub.status.idle": "2020-10-21T21:24:53.828Z",
          "shell.execute_reply": "2020-10-21T21:24:53.868Z"
        }
      }
    },
    {
      "cell_type": "code",
      "source": [
        "kc_unconfined = KapposConfined91(fc=28.,\n",
        "                      εco=0.002,\n",
        "                      ρw=0.0,\n",
        "                      bc=0.30,\n",
        "                      s=0.10,\n",
        "                      fyw=440.,\n",
        "                      hoops_pattern=2)\n",
        "\n",
        "σcs_unconfined = [kc_unconfined.σc(εc) for εc in εcs]"
      ],
      "outputs": [],
      "execution_count": 3,
      "metadata": {
        "collapsed": true,
        "jupyter": {
          "source_hidden": false,
          "outputs_hidden": false
        },
        "nteract": {
          "transient": {
            "deleting": false
          }
        },
        "execution": {
          "iopub.status.busy": "2020-10-21T21:24:53.835Z",
          "iopub.execute_input": "2020-10-21T21:24:53.839Z",
          "iopub.status.idle": "2020-10-21T21:24:53.846Z",
          "shell.execute_reply": "2020-10-21T21:24:53.870Z"
        }
      }
    },
    {
      "cell_type": "code",
      "source": [
        "fig, ax = plt.subplots()\n",
        "line, = ax.plot(εcs, σcs, '-', linewidth=2,\n",
        "                 label='confined')\n",
        "line_unconfined, = ax.plot(εcs, σcs_unconfined, '-', linewidth=2,\n",
        "                 label='unconfined')\n",
        "\n",
        "ax.legend(loc='right')\n",
        "ax.grid(True)\n",
        "plt.show()"
      ],
      "outputs": [
        {
          "output_type": "display_data",
          "data": {
            "text/plain": "<Figure size 432x288 with 1 Axes>",
            "image/png": "[encoded data removed]"
          },
          "metadata": {
            "needs_background": "light"
          }
        }
      ],
      "execution_count": 4,
      "metadata": {
        "collapsed": true,
        "jupyter": {
          "source_hidden": false,
          "outputs_hidden": false
        },
        "nteract": {
          "transient": {
            "deleting": false
          }
        },
        "execution": {
          "iopub.status.busy": "2020-10-21T21:24:53.851Z",
          "iopub.execute_input": "2020-10-21T21:24:53.855Z",
          "iopub.status.idle": "2020-10-21T21:24:53.997Z",
          "shell.execute_reply": "2020-10-21T21:24:54.003Z"
        }
      }
    }
  ],
  "metadata": {
    "kernelspec": {
      "display_name": "Python 3",
      "language": "python",
      "name": "python3"
    },
    "language_info": {
      "name": "python",
      "version": "3.7.7",
      "mimetype": "text/x-python",
      "codemirror_mode": {
        "name": "ipython",
        "version": 3
      },
      "pygments_lexer": "ipython3",
      "nbconvert_exporter": "python",
      "file_extension": ".py"
    },
    "nteract": {
      "version": "0.25.1"
    }
  },
  "nbformat": 4,
  "nbformat_minor": 2
}